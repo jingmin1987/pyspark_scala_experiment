{
 "cells": [
  {
   "cell_type": "markdown",
   "id": "7848b288-e2cf-4e86-958e-153eb07396d9",
   "metadata": {
    "tags": []
   },
   "source": [
    "# The content of this notebook will be moved to a script eventually"
   ]
  },
  {
   "cell_type": "markdown",
   "id": "081db395-5b01-4457-a09d-6f56fd0de7b9",
   "metadata": {},
   "source": [
    "### Python benchmarking"
   ]
  },
  {
   "cell_type": "code",
   "execution_count": 2,
   "id": "8b9ca897-9fea-4515-8b7e-b0b8749baac4",
   "metadata": {
    "tags": []
   },
   "outputs": [],
   "source": [
    "import pandas as pd\n",
    "import pickle\n",
    "import optuna\n",
    "import optuna.visualization as viz\n",
    "from sklearn.datasets import make_classification\n",
    "from sklearn.model_selection import train_test_split\n",
    "\n",
    "from estimator.xgbclassifier import XGBClassifier\n",
    "\n",
    "%matplotlib inline\n",
    "\n",
    "optuna.logging.set_verbosity(optuna.logging.WARNING)"
   ]
  },
  {
   "cell_type": "code",
   "execution_count": 3,
   "id": "a6a50835-ec39-4955-b215-563561452fba",
   "metadata": {},
   "outputs": [],
   "source": [
    "SEED = 123\n",
    "\n",
    "FIXED_PARAM = {\n",
    "    'early_stopping_rounds': 25,\n",
    "    'n_estimators': 500,\n",
    "    'n_class': 3,\n",
    "    'objective': 'multi:softprob',\n",
    "    'eval_metric': 'auc',\n",
    "    'verbosity': 0,\n",
    "    'tree_method': 'auto',\n",
    "    'n_jobs': 8,\n",
    "    'seed': SEED\n",
    "}"
   ]
  },
  {
   "cell_type": "code",
   "execution_count": 4,
   "id": "a904a40a-8d66-4eea-a614-506e83c79ce0",
   "metadata": {},
   "outputs": [],
   "source": [
    "x, y = make_classification(\n",
    "    n_samples=10_000, \n",
    "    n_classes=3,\n",
    "    n_informative=5,\n",
    "    random_state=SEED,\n",
    "    class_sep=0.5\n",
    ")\n",
    "\n",
    "x = pd.DataFrame(data=x, columns=[f'feature_{i}' for i in range(x.shape[1])])\n",
    "x_train, x_valid, y_train, y_valid = train_test_split(x, y, train_size=0.7, random_state=SEED)"
   ]
  },
  {
   "cell_type": "code",
   "execution_count": 11,
   "id": "a0e661a5-cd77-4178-8341-1bb6b53c3d20",
   "metadata": {},
   "outputs": [
    {
     "name": "stdout",
     "output_type": "stream",
     "text": [
      "CPU times: user 1min 58s, sys: 234 ms, total: 1min 58s\n",
      "Wall time: 14.8 s\n"
     ]
    }
   ],
   "source": [
    "%%time\n",
    "\n",
    "for i in range(10):\n",
    "    python_clf = XGBClassifier.make(**FIXED_PARAM)\n",
    "    python_clf.fit(x_train, y_train, eval_set=[(x_valid, y_valid)], verbose=False).best_score"
   ]
  },
  {
   "cell_type": "markdown",
   "id": "7e8e2cf4-7d97-46da-bfbc-35aa7d698907",
   "metadata": {},
   "source": [
    "### Spark benchmarking"
   ]
  },
  {
   "cell_type": "code",
   "execution_count": 1,
   "id": "b0518a0f-0e35-4b3a-8506-4edbe1459135",
   "metadata": {},
   "outputs": [],
   "source": [
    "import pandas as pd\n",
    "import optuna\n",
    "import optuna.visualization as viz\n",
    "from sklearn.datasets import make_classification\n",
    "from sklearn.model_selection import train_test_split\n",
    "\n",
    "from pyspark.sql import SparkSession\n",
    "import pyspark.sql.functions as F\n",
    "\n",
    "from estimator.xgbclassifier import XGBClassifier\n",
    "\n",
    "%matplotlib inline\n",
    "\n",
    "optuna.logging.set_verbosity(optuna.logging.WARNING)"
   ]
  },
  {
   "cell_type": "code",
   "execution_count": 70,
   "id": "eb5e3f1f-b3e6-40b6-9057-aeda9766d466",
   "metadata": {},
   "outputs": [],
   "source": [
    "SEED = 123\n",
    "\n",
    "FIXED_PARAM = {\n",
    "    'early_stopping_rounds': 25,\n",
    "    'n_estimators': 500,\n",
    "    'n_class': 3,\n",
    "    'objective': 'multi:softprob',\n",
    "    'eval_metric': 'auc',\n",
    "    'verbosity': 0,\n",
    "    'tree_method': 'auto',\n",
    "    'n_jobs': 1, # Setting to 1 speeds up the process quite significantly\n",
    "    'train_test_ratio': 1.0,\n",
    "    'seed': SEED\n",
    "}\n",
    "\n",
    "spark = SparkSession.builder.appName('my_test').config('spark.jars', '../jar/scala-util.jar,../jar/xgboost4j_2.12-1.6.1.jar,../jar/xgboost4j-spark_2.12-1.6.1.jar').getOrCreate()"
   ]
  },
  {
   "cell_type": "code",
   "execution_count": 71,
   "id": "5a566d1f-5551-41f1-a8f7-31d0d2634b72",
   "metadata": {
    "tags": []
   },
   "outputs": [],
   "source": [
    "x, y = make_classification(\n",
    "    n_samples=10_000, \n",
    "    n_classes=3,\n",
    "    n_informative=5,\n",
    "    random_state=123,\n",
    "    class_sep=0.5\n",
    ")\n",
    "\n",
    "x = pd.DataFrame(data=x, columns=[f'feature_{i}' for i in range(x.shape[1])])\n",
    "xy = x.assign(label=y)\n",
    "xy_train, xy_valid = map(spark.createDataFrame, train_test_split(xy, train_size=0.7, random_state=123))\n",
    "FIXED_PARAM['eval_sets'] = {'val': xy_valid}\n",
    "FIXED_PARAM['verbose'] = False"
   ]
  },
  {
   "cell_type": "code",
   "execution_count": 200,
   "id": "68e55709-619a-4844-b497-45e5ac8abce6",
   "metadata": {},
   "outputs": [
    {
     "name": "stdout",
     "output_type": "stream",
     "text": [
      "22/07/25 11:55:35 WARN XGBoostSpark: train_test_ratio is deprecated since XGBoost 0.82, we recommend to explicitly pass a training and multiple evaluation datasets by passing 'eval_sets' and 'eval_set_names'\n",
      "Tracker started, with env={DMLC_NUM_SERVER=0, DMLC_TRACKER_URI=192.168.1.155, DMLC_TRACKER_PORT=62083, DMLC_NUM_WORKER=1}\n"
     ]
    },
    {
     "name": "stderr",
     "output_type": "stream",
     "text": [
      "[11:55:36] task 0 got new rank 0\n",
      "                                                                                \r"
     ]
    },
    {
     "name": "stdout",
     "output_type": "stream",
     "text": [
      "22/07/25 11:55:40 WARN XGBoostSpark: train_test_ratio is deprecated since XGBoost 0.82, we recommend to explicitly pass a training and multiple evaluation datasets by passing 'eval_sets' and 'eval_set_names'\n",
      "Tracker started, with env={DMLC_NUM_SERVER=0, DMLC_TRACKER_URI=192.168.1.155, DMLC_TRACKER_PORT=62159, DMLC_NUM_WORKER=1}\n"
     ]
    },
    {
     "name": "stderr",
     "output_type": "stream",
     "text": [
      "[11:55:41] task 0 got new rank 0\n",
      "                                                                                \r"
     ]
    },
    {
     "name": "stdout",
     "output_type": "stream",
     "text": [
      "22/07/25 11:55:45 WARN XGBoostSpark: train_test_ratio is deprecated since XGBoost 0.82, we recommend to explicitly pass a training and multiple evaluation datasets by passing 'eval_sets' and 'eval_set_names'\n",
      "Tracker started, with env={DMLC_NUM_SERVER=0, DMLC_TRACKER_URI=192.168.1.155, DMLC_TRACKER_PORT=62235, DMLC_NUM_WORKER=1}\n"
     ]
    },
    {
     "name": "stderr",
     "output_type": "stream",
     "text": [
      "[11:55:45] task 0 got new rank 0\n",
      "                                                                                \r"
     ]
    },
    {
     "name": "stdout",
     "output_type": "stream",
     "text": [
      "22/07/25 11:55:49 WARN XGBoostSpark: train_test_ratio is deprecated since XGBoost 0.82, we recommend to explicitly pass a training and multiple evaluation datasets by passing 'eval_sets' and 'eval_set_names'\n",
      "Tracker started, with env={DMLC_NUM_SERVER=0, DMLC_TRACKER_URI=192.168.1.155, DMLC_TRACKER_PORT=62311, DMLC_NUM_WORKER=1}\n"
     ]
    },
    {
     "name": "stderr",
     "output_type": "stream",
     "text": [
      "[11:55:50] task 0 got new rank 0\n",
      "                                                                                \r"
     ]
    },
    {
     "name": "stdout",
     "output_type": "stream",
     "text": [
      "22/07/25 11:55:53 WARN XGBoostSpark: train_test_ratio is deprecated since XGBoost 0.82, we recommend to explicitly pass a training and multiple evaluation datasets by passing 'eval_sets' and 'eval_set_names'\n",
      "Tracker started, with env={DMLC_NUM_SERVER=0, DMLC_TRACKER_URI=192.168.1.155, DMLC_TRACKER_PORT=62387, DMLC_NUM_WORKER=1}\n"
     ]
    },
    {
     "name": "stderr",
     "output_type": "stream",
     "text": [
      "[11:55:54] task 0 got new rank 0\n",
      "                                                                                \r"
     ]
    },
    {
     "name": "stdout",
     "output_type": "stream",
     "text": [
      "22/07/25 11:55:58 WARN XGBoostSpark: train_test_ratio is deprecated since XGBoost 0.82, we recommend to explicitly pass a training and multiple evaluation datasets by passing 'eval_sets' and 'eval_set_names'\n",
      "Tracker started, with env={DMLC_NUM_SERVER=0, DMLC_TRACKER_URI=192.168.1.155, DMLC_TRACKER_PORT=62463, DMLC_NUM_WORKER=1}\n"
     ]
    },
    {
     "name": "stderr",
     "output_type": "stream",
     "text": [
      "[11:55:58] task 0 got new rank 0\n",
      "                                                                                \r"
     ]
    },
    {
     "name": "stdout",
     "output_type": "stream",
     "text": [
      "22/07/25 11:56:02 WARN XGBoostSpark: train_test_ratio is deprecated since XGBoost 0.82, we recommend to explicitly pass a training and multiple evaluation datasets by passing 'eval_sets' and 'eval_set_names'\n",
      "Tracker started, with env={DMLC_NUM_SERVER=0, DMLC_TRACKER_URI=192.168.1.155, DMLC_TRACKER_PORT=62539, DMLC_NUM_WORKER=1}\n"
     ]
    },
    {
     "name": "stderr",
     "output_type": "stream",
     "text": [
      "[11:56:02] task 0 got new rank 0\n",
      "                                                                                \r"
     ]
    },
    {
     "name": "stdout",
     "output_type": "stream",
     "text": [
      "22/07/25 11:56:06 WARN XGBoostSpark: train_test_ratio is deprecated since XGBoost 0.82, we recommend to explicitly pass a training and multiple evaluation datasets by passing 'eval_sets' and 'eval_set_names'\n",
      "Tracker started, with env={DMLC_NUM_SERVER=0, DMLC_TRACKER_URI=192.168.1.155, DMLC_TRACKER_PORT=62615, DMLC_NUM_WORKER=1}\n"
     ]
    },
    {
     "name": "stderr",
     "output_type": "stream",
     "text": [
      "[11:56:07] task 0 got new rank 0\n",
      "                                                                                \r"
     ]
    },
    {
     "name": "stdout",
     "output_type": "stream",
     "text": [
      "22/07/25 11:56:10 WARN XGBoostSpark: train_test_ratio is deprecated since XGBoost 0.82, we recommend to explicitly pass a training and multiple evaluation datasets by passing 'eval_sets' and 'eval_set_names'\n",
      "Tracker started, with env={DMLC_NUM_SERVER=0, DMLC_TRACKER_URI=192.168.1.155, DMLC_TRACKER_PORT=62692, DMLC_NUM_WORKER=1}\n"
     ]
    },
    {
     "name": "stderr",
     "output_type": "stream",
     "text": [
      "[11:56:11] task 0 got new rank 0\n",
      "                                                                                \r"
     ]
    },
    {
     "name": "stdout",
     "output_type": "stream",
     "text": [
      "22/07/25 11:56:15 WARN XGBoostSpark: train_test_ratio is deprecated since XGBoost 0.82, we recommend to explicitly pass a training and multiple evaluation datasets by passing 'eval_sets' and 'eval_set_names'\n",
      "Tracker started, with env={DMLC_NUM_SERVER=0, DMLC_TRACKER_URI=192.168.1.155, DMLC_TRACKER_PORT=62778, DMLC_NUM_WORKER=1}\n"
     ]
    },
    {
     "name": "stderr",
     "output_type": "stream",
     "text": [
      "[11:56:16] task 0 got new rank 0\n",
      "[Stage 207:>                                                        (0 + 1) / 1]\r"
     ]
    },
    {
     "name": "stdout",
     "output_type": "stream",
     "text": [
      "CPU times: user 125 ms, sys: 93.8 ms, total: 219 ms\n",
      "Wall time: 44.6 s\n"
     ]
    },
    {
     "name": "stderr",
     "output_type": "stream",
     "text": [
      "                                                                                \r"
     ]
    }
   ],
   "source": [
    "%%time\n",
    "for i in range(10):\n",
    "    spark_clf = XGBClassifier \\\n",
    "        .make(backend='scala', spark=spark, **FIXED_PARAM)\n",
    "    vectorized_df = spark_clf.transform(xy_train, xy_train.columns[:-1])\n",
    "    float(spark_clf.fit(vectorized_df)._model.nativeBooster().getAttr('best_score'))"
   ]
  }
 ],
 "metadata": {
  "kernelspec": {
   "display_name": "Python 3 (ipykernel)",
   "language": "python",
   "name": "python3"
  },
  "language_info": {
   "codemirror_mode": {
    "name": "ipython",
    "version": 3
   },
   "file_extension": ".py",
   "mimetype": "text/x-python",
   "name": "python",
   "nbconvert_exporter": "python",
   "pygments_lexer": "ipython3",
   "version": "3.8.10"
  }
 },
 "nbformat": 4,
 "nbformat_minor": 5
}
