{
 "cells": [
  {
   "cell_type": "code",
   "execution_count": 1,
   "id": "02cde3de-6302-4339-8c04-58521d9c8dfa",
   "metadata": {},
   "outputs": [],
   "source": [
    "from pyspark.sql import SparkSession\n",
    "import pyspark.sql.functions as F\n",
    "import pandas as pd"
   ]
  },
  {
   "cell_type": "code",
   "execution_count": 2,
   "id": "f57334f3-e8cf-464a-9ba4-2611b8a85d96",
   "metadata": {},
   "outputs": [],
   "source": [
    "import sys\n",
    "sys.path.append(\"..\")"
   ]
  },
  {
   "cell_type": "code",
   "execution_count": 3,
   "id": "140c7f1b-7a59-4e54-83d6-ab000f56029e",
   "metadata": {},
   "outputs": [],
   "source": [
    "from estimator.xgbclassifier import XGBClassifier, XGBClassifierPython"
   ]
  },
  {
   "cell_type": "code",
   "execution_count": 4,
   "id": "7d53a855-b1b2-4343-ab3a-5bd58cbbe08b",
   "metadata": {},
   "outputs": [],
   "source": [
    "model = XGBClassifier.make(\n",
    "    n_estimators=100, \n",
    "    reg_lambda=1.0, \n",
    "    gamma=0.5,\n",
    "    max_depth=3\n",
    ")"
   ]
  },
  {
   "cell_type": "code",
   "execution_count": 5,
   "id": "1170ceed-4614-44ba-887f-e2cc284332e1",
   "metadata": {},
   "outputs": [],
   "source": [
    "from sklearn.datasets import load_iris\n",
    "from sklearn.model_selection import train_test_split"
   ]
  },
  {
   "cell_type": "code",
   "execution_count": 6,
   "id": "a94afdee-3aa5-4a6b-aa8b-f2e053e8f8e9",
   "metadata": {},
   "outputs": [],
   "source": [
    "iris = load_iris()\n",
    "x = pd.DataFrame(iris.data, columns=iris.feature_names)\n",
    "y = pd.Series(iris.target)"
   ]
  },
  {
   "cell_type": "code",
   "execution_count": 7,
   "id": "6bb8df0f-af11-40c5-a6ec-5b4bd8c272c2",
   "metadata": {},
   "outputs": [],
   "source": [
    "x_train, x_test, y_train, y_test = train_test_split(x, y)"
   ]
  },
  {
   "cell_type": "code",
   "execution_count": 9,
   "id": "a4dd144b-f8b6-4fbf-a542-8420ae8ae69c",
   "metadata": {},
   "outputs": [],
   "source": [
    "model_fitted = model.fit(x_train, y_train)"
   ]
  },
  {
   "cell_type": "code",
   "execution_count": 10,
   "id": "dd200f04-ac21-4d2b-9e4a-4291fd26149d",
   "metadata": {},
   "outputs": [
    {
     "data": {
      "text/plain": [
       "array([0, 2, 0, 2, 2, 0, 0, 2, 0, 2, 1, 2, 2, 1, 1, 0, 2, 1, 1, 0, 2, 1,\n",
       "       0, 2, 1, 1, 2, 2, 2, 1, 0, 1, 0, 0, 1, 0, 0, 2])"
      ]
     },
     "execution_count": 10,
     "metadata": {},
     "output_type": "execute_result"
    }
   ],
   "source": [
    "model_fitted.predict(x_test)"
   ]
  },
  {
   "cell_type": "code",
   "execution_count": 22,
   "id": "9d429ccf-c7d1-406c-9b0f-08e35499927a",
   "metadata": {},
   "outputs": [
    {
     "data": {
      "text/plain": [
       "(estimator.xgbclassifier.XGBClassifierPython,\n",
       " xgboost.sklearn.XGBClassifier,\n",
       " xgboost.sklearn.XGBModel,\n",
       " sklearn.base.BaseEstimator,\n",
       " sklearn.base.ClassifierMixin,\n",
       " estimator.model.Model,\n",
       " object)"
      ]
     },
     "execution_count": 22,
     "metadata": {},
     "output_type": "execute_result"
    }
   ],
   "source": [
    "XGBClassifierPython.__mro__"
   ]
  },
  {
   "cell_type": "code",
   "execution_count": 17,
   "id": "4c74aefd-0a1e-495b-a15a-0d4b3dbe5158",
   "metadata": {},
   "outputs": [
    {
     "name": "stderr",
     "output_type": "stream",
     "text": [
      "SLF4J: Class path contains multiple SLF4J bindings.\n",
      "SLF4J: Found binding in [jar:file:/home/jingmin1987/hadoop/spark-3.3.0/jars/log4j-slf4j-impl-2.17.2.jar!/org/slf4j/impl/StaticLoggerBinder.class]\n",
      "SLF4J: Found binding in [jar:file:/home/jingmin1987/hadoop/hadoop-3.3.0/share/hadoop/common/lib/slf4j-log4j12-1.7.25.jar!/org/slf4j/impl/StaticLoggerBinder.class]\n",
      "SLF4J: See http://www.slf4j.org/codes.html#multiple_bindings for an explanation.\n",
      "SLF4J: Actual binding is of type [org.apache.logging.slf4j.Log4jLoggerFactory]\n"
     ]
    },
    {
     "name": "stdout",
     "output_type": "stream",
     "text": [
      "22/07/14 22:06:58 WARN Utils: Your hostname, JazyJojo resolves to a loopback address: 127.0.1.1; using 192.168.1.155 instead (on interface wifi0)\n",
      "22/07/14 22:06:58 WARN Utils: Set SPARK_LOCAL_IP if you need to bind to another address\n",
      "22/07/14 22:06:59 WARN NativeCodeLoader: Unable to load native-hadoop library for your platform... using builtin-java classes where applicable\n"
     ]
    },
    {
     "name": "stderr",
     "output_type": "stream",
     "text": [
      "Setting default log level to \"WARN\".\n",
      "To adjust logging level use sc.setLogLevel(newLevel). For SparkR, use setLogLevel(newLevel).\n"
     ]
    }
   ],
   "source": [
    "spark = SparkSession.builder.appName('my_test').config('spark.jars', 'scala_test/out/artifacts/scala_test_jar/scala_test.jar').getOrCreate()"
   ]
  },
  {
   "cell_type": "code",
   "execution_count": 47,
   "id": "b7bbaf37-7b5d-49b2-84bc-99a5e38884e7",
   "metadata": {},
   "outputs": [
    {
     "data": {
      "text/plain": [
       "<py4j.java_gateway.JVMView at 0x7f544fdda7c0>"
      ]
     },
     "execution_count": 47,
     "metadata": {},
     "output_type": "execute_result"
    }
   ],
   "source": [
    "spark._sc._gateway.jvm"
   ]
  },
  {
   "cell_type": "code",
   "execution_count": 48,
   "id": "840cd5f9-49a1-4db2-8286-c09466435618",
   "metadata": {},
   "outputs": [
    {
     "data": {
      "text/plain": [
       "<py4j.java_gateway.JVMView at 0x7f544fdda7c0>"
      ]
     },
     "execution_count": 48,
     "metadata": {},
     "output_type": "execute_result"
    }
   ],
   "source": [
    "spark._jvm"
   ]
  },
  {
   "cell_type": "code",
   "execution_count": 49,
   "id": "3c5d4040-883a-41f3-95ca-0a7d08be1960",
   "metadata": {},
   "outputs": [
    {
     "data": {
      "text/plain": [
       "<py4j.java_gateway.JVMView at 0x7f544fdda7c0>"
      ]
     },
     "execution_count": 49,
     "metadata": {},
     "output_type": "execute_result"
    }
   ],
   "source": [
    "spark.sparkContext._gateway.jvm"
   ]
  },
  {
   "cell_type": "code",
   "execution_count": 22,
   "id": "ae2592b2-96c8-48c9-a5e8-5c87b40eb8cc",
   "metadata": {},
   "outputs": [],
   "source": [
    "java_import(spark._jvm, 'test.Hello')"
   ]
  },
  {
   "cell_type": "code",
   "execution_count": 31,
   "id": "92cfe502-9782-45c6-b369-af718b1109d9",
   "metadata": {},
   "outputs": [
    {
     "data": {
      "text/plain": [
       "<py4j.java_gateway.JavaClass at 0x7f54458bc430>"
      ]
     },
     "execution_count": 31,
     "metadata": {},
     "output_type": "execute_result"
    }
   ],
   "source": [
    "spark._jvm.Hello() # This throws an error because it was created as a Scala singleton object, not a java class so there's no constructor"
   ]
  },
  {
   "cell_type": "code",
   "execution_count": null,
   "id": "e1ec1d49-c384-4e30-b2bb-97757e1daf82",
   "metadata": {},
   "outputs": [],
   "source": []
  },
  {
   "cell_type": "code",
   "execution_count": 4,
   "id": "b8b13e2d-a543-42f3-b3cb-e1d9b12a5a12",
   "metadata": {},
   "outputs": [],
   "source": [
    "df_pd = pd.DataFrame({'id': ['a', 'b', 'a'], 'val': [1, 2, 3]})"
   ]
  },
  {
   "cell_type": "code",
   "execution_count": 5,
   "id": "16b1cfd8-4d47-455f-a1c6-f690dcf98977",
   "metadata": {},
   "outputs": [],
   "source": [
    "df = spark.createDataFrame(df_pd)"
   ]
  },
  {
   "cell_type": "code",
   "execution_count": 6,
   "id": "347ffefa-78ac-47f6-a901-ef29311ddc9b",
   "metadata": {},
   "outputs": [
    {
     "name": "stderr",
     "output_type": "stream",
     "text": [
      "                                                                                \r"
     ]
    },
    {
     "name": "stdout",
     "output_type": "stream",
     "text": [
      "+---+---+\n",
      "| id|val|\n",
      "+---+---+\n",
      "|  a|  1|\n",
      "|  b|  2|\n",
      "|  a|  3|\n",
      "+---+---+\n",
      "\n"
     ]
    }
   ],
   "source": [
    "df.show()"
   ]
  },
  {
   "cell_type": "code",
   "execution_count": 9,
   "id": "2d758562-562d-41d9-8ae4-09eac2bf1a3e",
   "metadata": {},
   "outputs": [
    {
     "data": {
      "text/html": [
       "<div>\n",
       "<style scoped>\n",
       "    .dataframe tbody tr th:only-of-type {\n",
       "        vertical-align: middle;\n",
       "    }\n",
       "\n",
       "    .dataframe tbody tr th {\n",
       "        vertical-align: top;\n",
       "    }\n",
       "\n",
       "    .dataframe thead th {\n",
       "        text-align: right;\n",
       "    }\n",
       "</style>\n",
       "<table border=\"1\" class=\"dataframe\">\n",
       "  <thead>\n",
       "    <tr style=\"text-align: right;\">\n",
       "      <th></th>\n",
       "      <th>id</th>\n",
       "      <th>sum_val</th>\n",
       "      <th>mean_val</th>\n",
       "    </tr>\n",
       "  </thead>\n",
       "  <tbody>\n",
       "    <tr>\n",
       "      <th>0</th>\n",
       "      <td>a</td>\n",
       "      <td>4</td>\n",
       "      <td>2.0</td>\n",
       "    </tr>\n",
       "    <tr>\n",
       "      <th>1</th>\n",
       "      <td>b</td>\n",
       "      <td>2</td>\n",
       "      <td>2.0</td>\n",
       "    </tr>\n",
       "  </tbody>\n",
       "</table>\n",
       "</div>"
      ],
      "text/plain": [
       "  id  sum_val  mean_val\n",
       "0  a        4       2.0\n",
       "1  b        2       2.0"
      ]
     },
     "execution_count": 9,
     "metadata": {},
     "output_type": "execute_result"
    }
   ],
   "source": [
    "df \\\n",
    "    .groupBy('id') \\\n",
    "    .agg(F.sum('val').alias('sum_val'),\n",
    "         F.mean('val').alias('mean_val')) \\\n",
    "    .toPandas()"
   ]
  }
 ],
 "metadata": {
  "kernelspec": {
   "display_name": "Python 3 (ipykernel)",
   "language": "python",
   "name": "python3"
  },
  "language_info": {
   "codemirror_mode": {
    "name": "ipython",
    "version": 3
   },
   "file_extension": ".py",
   "mimetype": "text/x-python",
   "name": "python",
   "nbconvert_exporter": "python",
   "pygments_lexer": "ipython3",
   "version": "3.8.10"
  }
 },
 "nbformat": 4,
 "nbformat_minor": 5
}
